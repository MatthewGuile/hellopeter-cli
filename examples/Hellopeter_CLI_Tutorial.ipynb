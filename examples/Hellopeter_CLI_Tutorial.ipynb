{
  "nbformat": 4,
  "nbformat_minor": 0,
  "metadata": {
    "colab": {
      "provenance": [],
      "toc_visible": true
    },
    "kernelspec": {
      "name": "python3",
      "display_name": "Python 3"
    },
    "language_info": {
      "name": "python"
    }
  },
  "cells": [
    {
      "cell_type": "markdown",
      "source": [
        "#Hellopeter-CLI Tutorial"
      ],
      "metadata": {
        "id": "-Y38NuKLIqMl"
      }
    },
    {
      "cell_type": "markdown",
      "source": [
        "This notebook is a brief tutorial on how to get up and running with Hellopeter-CLI, a command-line tool for extracting consumer reviews and business statistics from the Hellopeter platform. It walks you through how to  setup the package in Google Colab so you can start working with real-world South African customer feedback data in minutes."
      ],
      "metadata": {
        "id": "7cX6pWoXJxEl"
      }
    },
    {
      "cell_type": "markdown",
      "source": [
        "## Getting Started"
      ],
      "metadata": {
        "id": "x3qkH2glSbTJ"
      }
    },
    {
      "cell_type": "markdown",
      "source": [
        "**Step 1. Clone the Repository**"
      ],
      "metadata": {
        "id": "s1TdWNJ4JLbX"
      }
    },
    {
      "cell_type": "code",
      "execution_count": null,
      "metadata": {
        "id": "FhPHtftuIgti"
      },
      "outputs": [],
      "source": [
        "!git clone https://github.com/MatthewGuile/hellopeter-cli.git"
      ]
    },
    {
      "cell_type": "markdown",
      "source": [
        "**Step 2. Navigate to Folder**"
      ],
      "metadata": {
        "id": "kIvwm-RrKcSn"
      }
    },
    {
      "cell_type": "code",
      "source": [
        "%cd hellopeter-cli/"
      ],
      "metadata": {
        "id": "Uu4ep-vfKQIm"
      },
      "execution_count": null,
      "outputs": []
    },
    {
      "cell_type": "markdown",
      "source": [
        "**Step 3. Install Package and Dependencies**"
      ],
      "metadata": {
        "id": "pB2pn6q7Ku_1"
      }
    },
    {
      "cell_type": "code",
      "source": [
        "!pip install ."
      ],
      "metadata": {
        "id": "8BDMH4p-Kryv"
      },
      "execution_count": null,
      "outputs": []
    },
    {
      "cell_type": "markdown",
      "source": [
        "**Step 4. Check Installation**"
      ],
      "metadata": {
        "id": "6IP1saZ9LAjG"
      }
    },
    {
      "cell_type": "code",
      "source": [
        "!hellopeter-cli -h"
      ],
      "metadata": {
        "id": "wiQKQfbxLA1J"
      },
      "execution_count": null,
      "outputs": []
    },
    {
      "cell_type": "markdown",
      "source": [
        "**Step 5. Fetch Reviews**"
      ],
      "metadata": {
        "id": "xttulXJnTOyK"
      }
    },
    {
      "cell_type": "markdown",
      "source": [
        "Now the package is up and running, let’s try it out by fetching a small sample of reviews. We’ll use the --reviews-only and --end-page parameters to limit the scope of the fetch."
      ],
      "metadata": {
        "id": "nsCyhEIJLc_5"
      }
    },
    {
      "cell_type": "code",
      "source": [
        "!hellopeter-cli fetch --businesses bank-zero-mutual-bank --reviews-only --end-page 1"
      ],
      "metadata": {
        "id": "ihKwQ_54L61L"
      },
      "execution_count": null,
      "outputs": []
    },
    {
      "cell_type": "markdown",
      "source": [
        "Let’s take a look at the reviews we just fetched, which are saved in the /output directory."
      ],
      "metadata": {
        "id": "jsSb-6nlNd2y"
      }
    },
    {
      "cell_type": "code",
      "source": [
        "import pandas as pd\n",
        "\n",
        "# Load the CSV file\n",
        "df = pd.read_csv('/content/hellopeter-cli/output/reviews_bank-zero-mutual-bank_20250423_194633.csv')\n",
        "\n",
        "# Show full text in cells without truncation\n",
        "pd.set_option('display.max_colwidth', None)\n",
        "\n",
        "# Display the first few full review contents\n",
        "df['review_content'].head()"
      ],
      "metadata": {
        "id": "kOlxgBzDMJJN"
      },
      "execution_count": null,
      "outputs": []
    },
    {
      "cell_type": "markdown",
      "source": [
        "View the [README](https://github.com/MatthewGuile/hellopeter-cli/blob/main/README.md) for more information on how to use Hellopeter-CLI."
      ],
      "metadata": {
        "id": "4BjwS02SRtyY"
      }
    }
  ]
}